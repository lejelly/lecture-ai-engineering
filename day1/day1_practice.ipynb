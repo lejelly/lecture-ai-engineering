{
  "cells": [
    {
      "cell_type": "markdown",
      "metadata": {
        "id": "gSpnWBP5ELSI"
      },
      "source": [
        "# 実践演習 Day 1：streamlitとFastAPIのデモ\n",
        "このノートブックでは以下の内容を学習します。\n",
        "\n",
        "- 必要なライブラリのインストールと環境設定\n",
        "- Hugging Faceからモデルを用いたStreamlitのデモアプリ\n",
        "- FastAPIとngrokを使用したAPIの公開方法\n",
        "\n",
        "演習を始める前に、HuggingFaceとngrokのアカウントを作成し、\n",
        "それぞれのAPIトークンを取得する必要があります。\n",
        "\n",
        "\n",
        "演習の時間では、以下の3つのディレクトリを順に説明します。\n",
        "\n",
        "1. 01_streamlit_UI\n",
        "2. 02_streamlit_app\n",
        "3. 03_FastAPI\n",
        "\n",
        "2つ目や3つ目からでも始められる様にノートブックを作成しています。\n",
        "\n",
        "復習の際にもこのノートブックを役立てていただければと思います。\n",
        "\n",
        "### 注意事項\n",
        "「02_streamlit_app」と「03_FastAPI」では、GPUを使用します。\n",
        "\n",
        "これらを実行する際は、Google Colab画面上のメニューから「編集」→ 「ノートブックの設定」\n",
        "\n",
        "「ハードウェアアクセラレーター」の項目の中から、「T4 GPU」を選択してください。\n",
        "\n",
        "このノートブックのデフォルトは「CPU」になっています。\n",
        "\n",
        "---"
      ]
    },
    {
      "cell_type": "markdown",
      "metadata": {
        "id": "OhtHkJOgELSL"
      },
      "source": [
        "# 環境変数の設定（1~3共有）\n"
      ]
    },
    {
      "cell_type": "markdown",
      "metadata": {
        "id": "Y-FjBp4MMQHM"
      },
      "source": [
        "GitHubから演習用のコードをCloneします。"
      ]
    },
    {
      "cell_type": "code",
      "execution_count": 1,
      "metadata": {
        "id": "AIXMavdDEP8U",
        "colab": {
          "base_uri": "https://localhost:8080/"
        },
        "outputId": "1dc2d3c0-1f38-4fb8-dbbb-2f42339f6c1b"
      },
      "outputs": [
        {
          "output_type": "stream",
          "name": "stdout",
          "text": [
            "Cloning into 'lecture-ai-engineering'...\n",
            "remote: Enumerating objects: 65, done.\u001b[K\n",
            "remote: Counting objects: 100% (65/65), done.\u001b[K\n",
            "remote: Compressing objects: 100% (62/62), done.\u001b[K\n",
            "remote: Total 65 (delta 19), reused 22 (delta 0), pack-reused 0 (from 0)\u001b[K\n",
            "Receiving objects: 100% (65/65), 48.98 KiB | 4.45 MiB/s, done.\n",
            "Resolving deltas: 100% (19/19), done.\n"
          ]
        }
      ],
      "source": [
        "!git clone https://github.com/lejelly/lecture-ai-engineering.git"
      ]
    },
    {
      "cell_type": "markdown",
      "metadata": {
        "id": "XC8n7yZ_vs1K"
      },
      "source": [
        "必要なAPIトークンを.envに設定します。\n",
        "\n",
        "「lecture-ai-engineering/day1」の配下に、「.env_template」ファイルが存在しています。\n",
        "\n",
        "隠しファイルのため表示されていない場合は、画面左側のある、目のアイコンの「隠しファイルの表示」ボタンを押してください。\n",
        "\n",
        "「.env_template」のファイル名を「.env」に変更します。「.env」ファイルを開くと、以下のような中身になっています。\n",
        "\n",
        "\n",
        "```\n",
        "HUGGINGFACE_TOKEN=\"hf-********\"\n",
        "NGROK_TOKEN=\"********\"\n",
        "```\n",
        "ダブルクオーテーションで囲まれた文字列をHuggingfaceのアクセストークンと、ngrokの認証トークンで書き変えてください。\n",
        "\n",
        "それぞれのアカウントが作成済みであれば、以下のURLからそれぞれのトークンを取得できます。\n",
        "\n",
        "- Huggingfaceのアクセストークン\n",
        "https://huggingface.co/docs/hub/security-tokens\n",
        "\n",
        "- ngrokの認証トークン\n",
        "https://dashboard.ngrok.com/get-started/your-authtoken\n",
        "\n",
        "書き換えたら、「.env」ファイルをローカルのPCにダウンロードしてください。\n",
        "\n",
        "「01_streamlit_UI」から「02_streamlit_app」へ進む際に、CPUからGPUの利用に切り替えるため、セッションが一度切れてしまいます。\n",
        "\n",
        "その際に、トークンを設定した「.env」ファイルは再作成することになるので、その手間を減らすために「.env」ファイルをダウンロードしておくと良いです。"
      ]
    },
    {
      "cell_type": "markdown",
      "metadata": {
        "id": "Py1BFS5RqcSS"
      },
      "source": [
        "「.env」ファイルを読み込み、環境変数として設定します。次のセルを実行し、最終的に「True」が表示されていればうまく読み込めています。"
      ]
    },
    {
      "cell_type": "code",
      "execution_count": 2,
      "metadata": {
        "id": "bvEowFfg5lrq",
        "colab": {
          "base_uri": "https://localhost:8080/"
        },
        "outputId": "960dc60c-2b3c-4799-ef18-c5637ad0cbda"
      },
      "outputs": [
        {
          "output_type": "stream",
          "name": "stdout",
          "text": [
            "Collecting python-dotenv\n",
            "  Downloading python_dotenv-1.1.0-py3-none-any.whl.metadata (24 kB)\n",
            "Downloading python_dotenv-1.1.0-py3-none-any.whl (20 kB)\n",
            "Installing collected packages: python-dotenv\n",
            "Successfully installed python-dotenv-1.1.0\n",
            "/content/lecture-ai-engineering/day1\n"
          ]
        },
        {
          "output_type": "execute_result",
          "data": {
            "text/plain": [
              "True"
            ]
          },
          "metadata": {},
          "execution_count": 2
        }
      ],
      "source": [
        "!pip install python-dotenv\n",
        "from dotenv import load_dotenv, find_dotenv\n",
        "\n",
        "%cd /content/lecture-ai-engineering/day1\n",
        "load_dotenv(find_dotenv())"
      ]
    },
    {
      "cell_type": "markdown",
      "metadata": {
        "id": "os0Yk6gaELSM"
      },
      "source": [
        "# 01_streamlit_UI\n",
        "\n",
        "ディレクトリ「01_streamlit_UI」に移動します。"
      ]
    },
    {
      "cell_type": "code",
      "execution_count": null,
      "metadata": {
        "id": "S28XgOm0ELSM"
      },
      "outputs": [],
      "source": [
        "%cd /content/lecture-ai-engineering/day1/01_streamlit_UI"
      ]
    },
    {
      "cell_type": "markdown",
      "metadata": {
        "id": "eVp-aEIkELSM"
      },
      "source": [
        "必要なライブラリをインストールします。"
      ]
    },
    {
      "cell_type": "code",
      "execution_count": null,
      "metadata": {
        "id": "nBe41LFiELSN"
      },
      "outputs": [],
      "source": [
        "%%capture\n",
        "!pip install -r requirements.txt"
      ]
    },
    {
      "cell_type": "markdown",
      "metadata": {
        "id": "Yyw6VHaTELSN"
      },
      "source": [
        "ngrokのトークンを使用して、認証を行います。"
      ]
    },
    {
      "cell_type": "code",
      "execution_count": null,
      "metadata": {
        "id": "aYw1q0iXELSN"
      },
      "outputs": [],
      "source": [
        "!ngrok authtoken $$NGROK_TOKEN"
      ]
    },
    {
      "cell_type": "markdown",
      "metadata": {
        "id": "RssTcD_IELSN"
      },
      "source": [
        "アプリを起動します。"
      ]
    },
    {
      "cell_type": "code",
      "execution_count": null,
      "metadata": {
        "id": "f-E7ucR6ELSN"
      },
      "outputs": [],
      "source": [
        "from pyngrok import ngrok\n",
        "\n",
        "public_url = ngrok.connect(8501).public_url\n",
        "print(f\"公開URL: {public_url}\")\n",
        "!streamlit run app.py"
      ]
    },
    {
      "cell_type": "markdown",
      "metadata": {
        "id": "kbYyXVFjELSN"
      },
      "source": [
        "公開URLの後に記載されているURLにブラウザでアクセスすると、streamlitのUIが表示されます。\n",
        "\n",
        "app.pyのコメントアウトされている箇所を編集することで、UIがどの様に変化するか確認してみましょう。\n",
        "\n",
        "streamlitの公式ページには、ギャラリーページがあります。\n",
        "\n",
        "streamlitを使うとpythonという一つの言語であっても、様々なUIを実現できることがわかると思います。\n",
        "\n",
        "https://streamlit.io/gallery"
      ]
    },
    {
      "cell_type": "markdown",
      "metadata": {
        "id": "MmtP5GLOELSN"
      },
      "source": [
        "後片付けとして、使う必要のないngrokのトンネルを削除します。"
      ]
    },
    {
      "cell_type": "code",
      "execution_count": null,
      "metadata": {
        "id": "8Ek9QgahELSO"
      },
      "outputs": [],
      "source": [
        "from pyngrok import ngrok\n",
        "ngrok.kill()"
      ]
    },
    {
      "cell_type": "markdown",
      "metadata": {
        "id": "o-T8tFpyELSO"
      },
      "source": [
        "# 02_streamlit_app"
      ]
    },
    {
      "cell_type": "markdown",
      "metadata": {
        "id": "QqogFQKnELSO"
      },
      "source": [
        "\n",
        "ディレクトリ「02_streamlit_app」に移動します。"
      ]
    },
    {
      "cell_type": "code",
      "execution_count": 3,
      "metadata": {
        "id": "UeEjlJ7uELSO",
        "colab": {
          "base_uri": "https://localhost:8080/"
        },
        "outputId": "5643ec90-6b19-4c18-802d-27a1cc57d3af"
      },
      "outputs": [
        {
          "output_type": "stream",
          "name": "stdout",
          "text": [
            "/content/lecture-ai-engineering/day1/02_streamlit_app\n"
          ]
        }
      ],
      "source": [
        "%cd /content/lecture-ai-engineering/day1/02_streamlit_app"
      ]
    },
    {
      "cell_type": "markdown",
      "metadata": {
        "id": "-XUH2AstELSO"
      },
      "source": [
        "必要なライブラリをインストールします。"
      ]
    },
    {
      "cell_type": "code",
      "execution_count": 4,
      "metadata": {
        "id": "mDqvI4V3ELSO"
      },
      "outputs": [],
      "source": [
        "%%capture\n",
        "!pip install -r requirements.txt"
      ]
    },
    {
      "cell_type": "markdown",
      "metadata": {
        "id": "ZO31umGZELSO"
      },
      "source": [
        "ngrokとhuggigfaceのトークンを使用して、認証を行います。"
      ]
    },
    {
      "cell_type": "code",
      "execution_count": 5,
      "metadata": {
        "id": "jPxTiEWQELSO",
        "colab": {
          "base_uri": "https://localhost:8080/"
        },
        "outputId": "885a6128-89a8-456c-9d80-063056142d50"
      },
      "outputs": [
        {
          "output_type": "stream",
          "name": "stdout",
          "text": [
            "Authtoken saved to configuration file: /root/.config/ngrok/ngrok.yml\n",
            "The token has not been saved to the git credentials helper. Pass `add_to_git_credential=True` in this function directly or `--add-to-git-credential` if using via `huggingface-cli` if you want to set the git credential as well.\n",
            "Token is valid (permission: fineGrained).\n",
            "The token `lecture-ai-engineering` has been saved to /root/.cache/huggingface/stored_tokens\n",
            "Your token has been saved to /root/.cache/huggingface/token\n",
            "Login successful.\n",
            "The current active token is: `lecture-ai-engineering`\n"
          ]
        }
      ],
      "source": [
        "!ngrok authtoken $$NGROK_TOKEN\n",
        "!huggingface-cli login --token $$HUGGINGFACE_TOKEN"
      ]
    },
    {
      "cell_type": "markdown",
      "metadata": {
        "id": "dz4WrELLELSP"
      },
      "source": [
        "stramlitでHuggingfaceのトークン情報を扱うために、streamlit用の設定ファイル（.streamlit）を作成し、トークンの情報を格納します。"
      ]
    },
    {
      "cell_type": "code",
      "execution_count": 6,
      "metadata": {
        "id": "W184-a7qFP0W"
      },
      "outputs": [],
      "source": [
        "# .streamlit/secrets.toml ファイルを作成\n",
        "import os\n",
        "import toml\n",
        "\n",
        "# 設定ファイルのディレクトリ確保\n",
        "os.makedirs('.streamlit', exist_ok=True)\n",
        "\n",
        "# 環境変数から取得したトークンを設定ファイルに書き込む\n",
        "secrets = {\n",
        "    \"huggingface\": {\n",
        "        \"token\": os.environ.get(\"HUGGINGFACE_TOKEN\", \"\")\n",
        "    }\n",
        "}\n",
        "\n",
        "# 設定ファイルを書き込む\n",
        "with open('.streamlit/secrets.toml', 'w') as f:\n",
        "    toml.dump(secrets, f)"
      ]
    },
    {
      "cell_type": "markdown",
      "metadata": {
        "id": "fK0vI_xKELSP"
      },
      "source": [
        "アプリを起動します。\n",
        "\n",
        "02_streamlit_appでは、Huggingfaceからモデルをダウンロードするため、初回起動には2分程度時間がかかります。\n",
        "\n",
        "この待ち時間を利用して、app.pyのコードを確認してみましょう。"
      ]
    },
    {
      "cell_type": "code",
      "execution_count": null,
      "metadata": {
        "id": "TBQyTTWTELSP",
        "colab": {
          "base_uri": "https://localhost:8080/"
        },
        "outputId": "74e8aacf-088d-473f-ed37-57ad44d30a68"
      },
      "outputs": [
        {
          "output_type": "stream",
          "name": "stdout",
          "text": [
            "公開URL: https://9140-34-87-189-169.ngrok-free.app\n",
            "\n",
            "Collecting usage statistics. To deactivate, set browser.gatherUsageStats to false.\n",
            "\u001b[0m\n",
            "\u001b[0m\n",
            "\u001b[34m\u001b[1m  You can now view your Streamlit app in your browser.\u001b[0m\n",
            "\u001b[0m\n",
            "\u001b[34m  Local URL: \u001b[0m\u001b[1mhttp://localhost:8501\u001b[0m\n",
            "\u001b[34m  Network URL: \u001b[0m\u001b[1mhttp://172.28.0.12:8501\u001b[0m\n",
            "\u001b[34m  External URL: \u001b[0m\u001b[1mhttp://34.87.189.169:8501\u001b[0m\n",
            "\u001b[0m\n",
            "NLTK loaded successfully.\n",
            "2025-04-16 15:42:30.185428: E external/local_xla/xla/stream_executor/cuda/cuda_fft.cc:477] Unable to register cuFFT factory: Attempting to register factory for plugin cuFFT when one has already been registered\n",
            "WARNING: All log messages before absl::InitializeLog() is called are written to STDERR\n",
            "E0000 00:00:1744818150.209325    4018 cuda_dnn.cc:8310] Unable to register cuDNN factory: Attempting to register factory for plugin cuDNN when one has already been registered\n",
            "E0000 00:00:1744818150.216595    4018 cuda_blas.cc:1418] Unable to register cuBLAS factory: Attempting to register factory for plugin cuBLAS when one has already been registered\n",
            "2025-04-16 15:42:30.241106: I tensorflow/core/platform/cpu_feature_guard.cc:210] This TensorFlow binary is optimized to use available CPU instructions in performance-critical operations.\n",
            "To enable the following instructions: AVX2 AVX512F FMA, in other operations, rebuild TensorFlow with the appropriate compiler flags.\n",
            "NLTK Punkt data checked/downloaded.\n",
            "Database 'chat_feedback.db' initialized successfully.\n",
            "config.json: 100% 3.48k/3.48k [00:00<00:00, 16.5MB/s]\n",
            "model.safetensors.index.json: 100% 16.3k/16.3k [00:00<00:00, 51.6MB/s]\n",
            "Fetching 2 files:   0% 0/2 [00:00<?, ?it/s]\n",
            "model-00002-of-00002.safetensors:   0% 0.00/2.67G [00:00<?, ?B/s]\u001b[A\n",
            "\n",
            "model-00001-of-00002.safetensors:   0% 0.00/4.97G [00:00<?, ?B/s]\u001b[A\u001b[A\n",
            "model-00002-of-00002.safetensors:   0% 10.5M/2.67G [00:00<00:28, 94.8MB/s]\u001b[A\n",
            "\n",
            "model-00001-of-00002.safetensors:   0% 21.0M/4.97G [00:00<00:49, 101MB/s]\u001b[A\u001b[A\n",
            "model-00002-of-00002.safetensors:   1% 21.0M/2.67G [00:00<00:28, 92.0MB/s]\u001b[A\n",
            "model-00002-of-00002.safetensors:   2% 41.9M/2.67G [00:00<00:19, 133MB/s] \u001b[A\n",
            "\n",
            "model-00001-of-00002.safetensors:   1% 41.9M/4.97G [00:00<00:38, 128MB/s]\u001b[A\u001b[A\n",
            "model-00002-of-00002.safetensors:   2% 62.9M/2.67G [00:00<00:18, 143MB/s]\u001b[A\n",
            "\n",
            "model-00001-of-00002.safetensors:   1% 62.9M/4.97G [00:00<00:36, 134MB/s]\u001b[A\u001b[A\n",
            "model-00002-of-00002.safetensors:   3% 83.9M/2.67G [00:00<00:18, 141MB/s]\u001b[A\n",
            "\n",
            "model-00001-of-00002.safetensors:   2% 83.9M/4.97G [00:00<00:34, 140MB/s]\u001b[A\u001b[A\n",
            "model-00002-of-00002.safetensors:   4% 105M/2.67G [00:00<00:17, 143MB/s] \u001b[A\n",
            "\n",
            "model-00001-of-00002.safetensors:   2% 105M/4.97G [00:00<00:35, 139MB/s] \u001b[A\u001b[A\n",
            "model-00002-of-00002.safetensors:   5% 126M/2.67G [00:00<00:19, 132MB/s]\u001b[A\n",
            "\n",
            "model-00001-of-00002.safetensors:   3% 126M/4.97G [00:00<00:39, 122MB/s]\u001b[A\u001b[A\n",
            "model-00002-of-00002.safetensors:   5% 147M/2.67G [00:01<00:18, 140MB/s]\u001b[A\n",
            "\n",
            "model-00001-of-00002.safetensors:   3% 147M/4.97G [00:01<00:38, 127MB/s]\u001b[A\u001b[A\n",
            "model-00002-of-00002.safetensors:   6% 168M/2.67G [00:03<01:41, 24.6MB/s]\u001b[A\n",
            "model-00002-of-00002.safetensors:   7% 178M/2.67G [00:05<02:42, 15.4MB/s]\u001b[A\n",
            "\n",
            "model-00001-of-00002.safetensors:   3% 168M/4.97G [00:05<05:25, 14.8MB/s]\u001b[A\u001b[A\n",
            "model-00002-of-00002.safetensors:   8% 210M/2.67G [00:05<01:33, 26.4MB/s]\u001b[A\n",
            "\n",
            "model-00001-of-00002.safetensors:   4% 199M/4.97G [00:05<03:19, 24.0MB/s]\u001b[A\u001b[A\n",
            "model-00002-of-00002.safetensors:   9% 231M/2.67G [00:05<01:08, 35.7MB/s]\u001b[A\n",
            "\n",
            "model-00001-of-00002.safetensors:   5% 231M/4.97G [00:05<02:13, 35.5MB/s]\u001b[A\u001b[A\n",
            "model-00002-of-00002.safetensors:   9% 252M/2.67G [00:05<00:52, 45.9MB/s]\u001b[A\n",
            "\n",
            "model-00001-of-00002.safetensors:   5% 252M/4.97G [00:05<01:45, 44.7MB/s]\u001b[A\u001b[A\n",
            "model-00002-of-00002.safetensors:  10% 273M/2.67G [00:05<00:41, 57.4MB/s]\u001b[A\n",
            "\n",
            "model-00001-of-00002.safetensors:   5% 273M/4.97G [00:05<01:24, 55.6MB/s]\u001b[A\u001b[A\n",
            "model-00002-of-00002.safetensors:  11% 294M/2.67G [00:05<00:32, 72.7MB/s]\u001b[A\n",
            "\n",
            "model-00001-of-00002.safetensors:   6% 294M/4.97G [00:05<01:07, 69.5MB/s]\u001b[A\u001b[A\n",
            "\n",
            "model-00001-of-00002.safetensors:   6% 315M/4.97G [00:05<00:54, 85.1MB/s]\u001b[A\u001b[A\n",
            "model-00002-of-00002.safetensors:  12% 325M/2.67G [00:06<00:24, 97.6MB/s]\u001b[A\n",
            "\n",
            "model-00001-of-00002.safetensors:   7% 336M/4.97G [00:06<00:45, 101MB/s] \u001b[A\u001b[A\n",
            "model-00002-of-00002.safetensors:  13% 357M/2.67G [00:06<00:18, 128MB/s] \u001b[A\n",
            "model-00002-of-00002.safetensors:  14% 377M/2.67G [00:06<00:16, 137MB/s]\u001b[A\n",
            "\n",
            "model-00001-of-00002.safetensors:   7% 357M/4.97G [00:06<00:44, 103MB/s]\u001b[A\u001b[A\n",
            "model-00002-of-00002.safetensors:  15% 398M/2.67G [00:06<00:16, 142MB/s]\u001b[A\n",
            "\n",
            "model-00001-of-00002.safetensors:   8% 377M/4.97G [00:06<00:46, 97.8MB/s]\u001b[A\u001b[A\n",
            "model-00002-of-00002.safetensors:  16% 419M/2.67G [00:06<00:16, 137MB/s]\u001b[A\n",
            "model-00002-of-00002.safetensors:  16% 440M/2.67G [00:06<00:15, 142MB/s]\u001b[A\n",
            "\n",
            "model-00001-of-00002.safetensors:   8% 409M/4.97G [00:06<00:41, 111MB/s] \u001b[A\u001b[A\n",
            "model-00002-of-00002.safetensors:  17% 461M/2.67G [00:06<00:14, 150MB/s]\u001b[A\n",
            "\n",
            "model-00001-of-00002.safetensors:   9% 430M/4.97G [00:06<00:39, 114MB/s]\u001b[A\u001b[A\n",
            "model-00002-of-00002.safetensors:  18% 482M/2.67G [00:06<00:14, 148MB/s]\u001b[A\n",
            "\n",
            "model-00001-of-00002.safetensors:   9% 451M/4.97G [00:07<00:37, 122MB/s]\u001b[A\u001b[A\n",
            "model-00002-of-00002.safetensors:  19% 503M/2.67G [00:07<00:15, 139MB/s]\u001b[A\n",
            "\n",
            "model-00001-of-00002.safetensors:   9% 472M/4.97G [00:07<00:38, 116MB/s]\u001b[A\u001b[A\n",
            "model-00002-of-00002.safetensors:  20% 524M/2.67G [00:07<00:15, 136MB/s]\u001b[A\n",
            "model-00002-of-00002.safetensors:  20% 545M/2.67G [00:09<01:13, 28.8MB/s]\u001b[A\n",
            "\n",
            "model-00001-of-00002.safetensors:  10% 493M/4.97G [00:09<02:37, 28.5MB/s]\u001b[A\u001b[A\n",
            "model-00002-of-00002.safetensors:  22% 577M/2.67G [00:09<00:47, 44.1MB/s]\u001b[A\n",
            "\n",
            "model-00001-of-00002.safetensors:  11% 524M/4.97G [00:09<01:42, 43.2MB/s]\u001b[A\u001b[A\n",
            "model-00002-of-00002.safetensors:  22% 598M/2.67G [00:09<00:37, 54.8MB/s]\u001b[A\n",
            "\n",
            "model-00001-of-00002.safetensors:  11% 545M/4.97G [00:09<01:22, 53.4MB/s]\u001b[A\u001b[A\n",
            "\n",
            "model-00001-of-00002.safetensors:  11% 566M/4.97G [00:09<01:06, 65.8MB/s]\u001b[A\u001b[A\n",
            "model-00002-of-00002.safetensors:  23% 619M/2.67G [00:09<00:31, 66.1MB/s]\u001b[A\n",
            "\n",
            "model-00001-of-00002.safetensors:  12% 587M/4.97G [00:09<00:55, 78.8MB/s]\u001b[A\u001b[A\n",
            "model-00002-of-00002.safetensors:  24% 640M/2.67G [00:09<00:25, 79.0MB/s]\u001b[A\n",
            "model-00002-of-00002.safetensors:  25% 661M/2.67G [00:10<00:21, 93.3MB/s]\u001b[A\n",
            "\n",
            "model-00001-of-00002.safetensors:  12% 608M/4.97G [00:10<00:48, 90.4MB/s]\u001b[A\u001b[A\n",
            "\n",
            "model-00001-of-00002.safetensors:  13% 640M/4.97G [00:10<00:40, 108MB/s] \u001b[A\u001b[A\n",
            "\n",
            "model-00001-of-00002.safetensors:  13% 671M/4.97G [00:10<00:32, 134MB/s]\u001b[A\u001b[A\n",
            "model-00002-of-00002.safetensors:  26% 692M/2.67G [00:10<00:22, 87.0MB/s]\u001b[A\n",
            "\n",
            "model-00001-of-00002.safetensors:  14% 692M/4.97G [00:10<00:30, 141MB/s]\u001b[A\u001b[A\n",
            "model-00002-of-00002.safetensors:  27% 724M/2.67G [00:10<00:18, 104MB/s] \u001b[A\n",
            "\n",
            "model-00001-of-00002.safetensors:  15% 724M/4.97G [00:10<00:26, 159MB/s]\u001b[A\u001b[A\n",
            "model-00002-of-00002.safetensors:  28% 744M/2.67G [00:10<00:17, 113MB/s]\u001b[A\n",
            "\n",
            "model-00001-of-00002.safetensors:  15% 744M/4.97G [00:10<00:26, 161MB/s]\u001b[A\u001b[A\n",
            "model-00002-of-00002.safetensors:  29% 765M/2.67G [00:10<00:16, 119MB/s]\u001b[A\n",
            "\n",
            "model-00001-of-00002.safetensors:  15% 765M/4.97G [00:10<00:27, 150MB/s]\u001b[A\u001b[A\n",
            "model-00002-of-00002.safetensors:  29% 786M/2.67G [00:11<00:14, 127MB/s]\u001b[A\n",
            "\n",
            "model-00001-of-00002.safetensors:  16% 786M/4.97G [00:11<00:27, 155MB/s]\u001b[A\u001b[A\n",
            "model-00002-of-00002.safetensors:  30% 807M/2.67G [00:11<00:14, 128MB/s]\u001b[A\n",
            "\n",
            "model-00001-of-00002.safetensors:  16% 807M/4.97G [00:11<00:27, 150MB/s]\u001b[A\u001b[A\n",
            "model-00002-of-00002.safetensors:  31% 828M/2.67G [00:11<00:16, 111MB/s]\u001b[A\n",
            "\n",
            "model-00001-of-00002.safetensors:  17% 828M/4.97G [00:11<00:35, 116MB/s]\u001b[A\u001b[A\n",
            "model-00002-of-00002.safetensors:  32% 849M/2.67G [00:11<00:22, 80.3MB/s]\u001b[A\n",
            "\n",
            "model-00001-of-00002.safetensors:  17% 849M/4.97G [00:11<00:50, 81.7MB/s]\u001b[A\u001b[A\n",
            "model-00002-of-00002.safetensors:  32% 860M/2.67G [00:12<00:24, 73.5MB/s]\u001b[A\n",
            "\n",
            "model-00001-of-00002.safetensors:  18% 870M/4.97G [00:12<00:48, 84.4MB/s]\u001b[A\u001b[A\n",
            "model-00002-of-00002.safetensors:  33% 881M/2.67G [00:12<00:20, 88.2MB/s]\u001b[A\n",
            "\n",
            "model-00001-of-00002.safetensors:  18% 891M/4.97G [00:12<00:40, 102MB/s] \u001b[A\u001b[A\n",
            "model-00002-of-00002.safetensors:  34% 902M/2.67G [00:12<00:16, 105MB/s] \u001b[A\n",
            "\n",
            "model-00001-of-00002.safetensors:  18% 912M/4.97G [00:12<00:35, 116MB/s]\u001b[A\u001b[A\n",
            "\n",
            "model-00001-of-00002.safetensors:  19% 933M/4.97G [00:12<00:31, 127MB/s]\u001b[A\u001b[A\n",
            "model-00002-of-00002.safetensors:  35% 923M/2.67G [00:12<00:15, 109MB/s]\u001b[A\n",
            "\n",
            "model-00001-of-00002.safetensors:  19% 954M/4.97G [00:12<00:30, 134MB/s]\u001b[A\u001b[A\n",
            "model-00002-of-00002.safetensors:  35% 944M/2.67G [00:12<00:15, 114MB/s]\u001b[A\n",
            "\n",
            "model-00001-of-00002.safetensors:  20% 975M/4.97G [00:12<00:32, 125MB/s]\u001b[A\u001b[A\n",
            "model-00002-of-00002.safetensors:  36% 965M/2.67G [00:12<00:14, 115MB/s]\u001b[A\n",
            "\n",
            "model-00001-of-00002.safetensors:  20% 996M/4.97G [00:13<00:31, 126MB/s]\u001b[A\u001b[A\n",
            "model-00002-of-00002.safetensors:  37% 986M/2.67G [00:13<00:14, 118MB/s]\u001b[A\n",
            "\n",
            "model-00001-of-00002.safetensors:  20% 1.02G/4.97G [00:13<00:32, 123MB/s]\u001b[A\u001b[A\n",
            "model-00002-of-00002.safetensors:  38% 1.01G/2.67G [00:13<00:14, 118MB/s]\u001b[A\n",
            "model-00002-of-00002.safetensors:  38% 1.03G/2.67G [00:13<00:15, 107MB/s]\u001b[A\n",
            "\n",
            "model-00001-of-00002.safetensors:  21% 1.04G/4.97G [00:13<00:37, 104MB/s]\u001b[A\u001b[A\n",
            "model-00002-of-00002.safetensors:  40% 1.06G/2.67G [00:13<00:12, 132MB/s]\u001b[A\n",
            "\n",
            "model-00001-of-00002.safetensors:  21% 1.06G/4.97G [00:13<00:36, 107MB/s]\u001b[A\u001b[A\n",
            "model-00002-of-00002.safetensors:  40% 1.08G/2.67G [00:13<00:12, 129MB/s]\u001b[A\n",
            "\n",
            "model-00001-of-00002.safetensors:  22% 1.08G/4.97G [00:13<00:34, 112MB/s]\u001b[A\u001b[A\n",
            "model-00002-of-00002.safetensors:  41% 1.10G/2.67G [00:13<00:12, 122MB/s]\u001b[A\n",
            "\n",
            "model-00001-of-00002.safetensors:  22% 1.10G/4.97G [00:14<00:35, 111MB/s]\u001b[A\u001b[A\n",
            "model-00002-of-00002.safetensors:  42% 1.12G/2.67G [00:14<00:11, 139MB/s]\u001b[A\n",
            "model-00002-of-00002.safetensors:  43% 1.14G/2.67G [00:14<00:11, 134MB/s]\u001b[A\n",
            "\n",
            "model-00001-of-00002.safetensors:  23% 1.12G/4.97G [00:14<00:37, 101MB/s]\u001b[A\u001b[A\n",
            "model-00002-of-00002.safetensors:  44% 1.17G/2.67G [00:14<00:10, 145MB/s]\u001b[A\n",
            "\n",
            "model-00001-of-00002.safetensors:  23% 1.14G/4.97G [00:14<00:37, 103MB/s]\u001b[A\u001b[A\n",
            "model-00002-of-00002.safetensors:  45% 1.20G/2.67G [00:14<00:10, 137MB/s]\u001b[A\n",
            "\n",
            "model-00001-of-00002.safetensors:  23% 1.16G/4.97G [00:14<00:34, 109MB/s]\u001b[A\u001b[A\n",
            "model-00002-of-00002.safetensors:  46% 1.22G/2.67G [00:14<00:11, 131MB/s]\u001b[A\n",
            "\n",
            "model-00001-of-00002.safetensors:  24% 1.18G/4.97G [00:14<00:34, 109MB/s]\u001b[A\u001b[A\n",
            "model-00002-of-00002.safetensors:  46% 1.24G/2.67G [00:14<00:11, 129MB/s]\u001b[A\n",
            "\n",
            "model-00001-of-00002.safetensors:  24% 1.21G/4.97G [00:14<00:33, 112MB/s]\u001b[A\u001b[A\n",
            "model-00002-of-00002.safetensors:  47% 1.26G/2.67G [00:15<00:12, 116MB/s]\u001b[A\n",
            "\n",
            "model-00001-of-00002.safetensors:  25% 1.23G/4.97G [00:15<00:34, 108MB/s]\u001b[A\u001b[A\n",
            "model-00002-of-00002.safetensors:  48% 1.28G/2.67G [00:15<00:11, 122MB/s]\u001b[A\n",
            "\n",
            "model-00001-of-00002.safetensors:  25% 1.25G/4.97G [00:15<00:34, 109MB/s]\u001b[A\u001b[A\n",
            "model-00002-of-00002.safetensors:  49% 1.30G/2.67G [00:15<00:11, 120MB/s]\u001b[A\n",
            "\n",
            "model-00001-of-00002.safetensors:  26% 1.27G/4.97G [00:15<00:32, 115MB/s]\u001b[A\u001b[A\n",
            "model-00002-of-00002.safetensors:  49% 1.32G/2.67G [00:15<00:10, 126MB/s]\u001b[A\n",
            "\n",
            "model-00001-of-00002.safetensors:  26% 1.29G/4.97G [00:15<00:29, 124MB/s]\u001b[A\u001b[A\n",
            "\n",
            "model-00001-of-00002.safetensors:  26% 1.31G/4.97G [00:15<00:28, 127MB/s]\u001b[A\u001b[A\n",
            "model-00002-of-00002.safetensors:  50% 1.34G/2.67G [00:15<00:11, 120MB/s]\u001b[A\n",
            "\n",
            "model-00001-of-00002.safetensors:  27% 1.33G/4.97G [00:16<00:29, 126MB/s]\u001b[A\u001b[A\n",
            "model-00002-of-00002.safetensors:  51% 1.36G/2.67G [00:16<00:11, 118MB/s]\u001b[A\n",
            "\n",
            "model-00001-of-00002.safetensors:  27% 1.35G/4.97G [00:16<00:25, 141MB/s]\u001b[A\u001b[A\n",
            "model-00002-of-00002.safetensors:  52% 1.38G/2.67G [00:16<00:11, 117MB/s]\u001b[A\n",
            "\n",
            "model-00001-of-00002.safetensors:  28% 1.37G/4.97G [00:16<00:28, 125MB/s]\u001b[A\u001b[A\n",
            "model-00002-of-00002.safetensors:  53% 1.41G/2.67G [00:16<00:10, 125MB/s]\u001b[A\n",
            "\n",
            "model-00001-of-00002.safetensors:  28% 1.39G/4.97G [00:16<00:28, 127MB/s]\u001b[A\u001b[A\n",
            "model-00002-of-00002.safetensors:  53% 1.43G/2.67G [00:16<00:09, 127MB/s]\u001b[A\n",
            "\n",
            "model-00001-of-00002.safetensors:  28% 1.42G/4.97G [00:16<00:25, 138MB/s]\u001b[A\u001b[A\n",
            "model-00002-of-00002.safetensors:  54% 1.45G/2.67G [00:16<00:09, 126MB/s]\u001b[A\n",
            "\n",
            "model-00001-of-00002.safetensors:  29% 1.44G/4.97G [00:16<00:29, 121MB/s]\u001b[A\u001b[A\n",
            "model-00002-of-00002.safetensors:  55% 1.47G/2.67G [00:16<00:09, 128MB/s]\u001b[A\n",
            "model-00002-of-00002.safetensors:  56% 1.49G/2.67G [00:17<00:08, 132MB/s]\u001b[A\n",
            "\n",
            "model-00001-of-00002.safetensors:  29% 1.46G/4.97G [00:16<00:28, 123MB/s]\u001b[A\u001b[A\n",
            "\n",
            "model-00001-of-00002.safetensors:  30% 1.48G/4.97G [00:17<00:28, 124MB/s]\u001b[A\u001b[A\n",
            "model-00002-of-00002.safetensors:  57% 1.51G/2.67G [00:17<00:09, 125MB/s]\u001b[A\n",
            "\n",
            "model-00001-of-00002.safetensors:  30% 1.50G/4.97G [00:17<00:25, 138MB/s]\u001b[A\u001b[A\n",
            "model-00002-of-00002.safetensors:  57% 1.53G/2.67G [00:17<00:08, 133MB/s]\u001b[A\n",
            "\n",
            "model-00001-of-00002.safetensors:  31% 1.52G/4.97G [00:17<00:24, 140MB/s]\u001b[A\u001b[A\n",
            "model-00002-of-00002.safetensors:  58% 1.55G/2.67G [00:17<00:08, 130MB/s]\u001b[A\n",
            "\n",
            "model-00001-of-00002.safetensors:  31% 1.55G/4.97G [00:17<00:21, 159MB/s]\u001b[A\u001b[A\n",
            "model-00002-of-00002.safetensors:  59% 1.57G/2.67G [00:17<00:07, 139MB/s]\u001b[A\n",
            "\n",
            "model-00001-of-00002.safetensors:  32% 1.57G/4.97G [00:17<00:20, 163MB/s]\u001b[A\u001b[A\n",
            "model-00002-of-00002.safetensors:  60% 1.59G/2.67G [00:17<00:07, 144MB/s]\u001b[A\n",
            "\n",
            "model-00001-of-00002.safetensors:  32% 1.59G/4.97G [00:17<00:19, 172MB/s]\u001b[A\u001b[A\n",
            "model-00002-of-00002.safetensors:  60% 1.61G/2.67G [00:17<00:06, 157MB/s]\u001b[A\n",
            "\n",
            "model-00001-of-00002.safetensors:  32% 1.61G/4.97G [00:17<00:19, 175MB/s]\u001b[A\u001b[A\n",
            "model-00002-of-00002.safetensors:  61% 1.64G/2.67G [00:17<00:06, 161MB/s]\u001b[A\n",
            "\n",
            "model-00001-of-00002.safetensors:  33% 1.64G/4.97G [00:18<00:22, 151MB/s]\u001b[A\u001b[A\n",
            "model-00002-of-00002.safetensors:  62% 1.66G/2.67G [00:18<00:07, 145MB/s]\u001b[A\n",
            "\n",
            "model-00001-of-00002.safetensors:  33% 1.66G/4.97G [00:18<00:31, 105MB/s]\u001b[A\u001b[A\n",
            "model-00002-of-00002.safetensors:  63% 1.68G/2.67G [00:18<00:09, 108MB/s]\u001b[A\n",
            "\n",
            "model-00001-of-00002.safetensors:  34% 1.69G/4.97G [00:18<00:23, 138MB/s]\u001b[A\u001b[A\n",
            "model-00002-of-00002.safetensors:  64% 1.71G/2.67G [00:18<00:07, 134MB/s]\u001b[A\n",
            "\n",
            "model-00001-of-00002.safetensors:  35% 1.72G/4.97G [00:18<00:22, 146MB/s]\u001b[A\u001b[A\n",
            "model-00002-of-00002.safetensors:  65% 1.73G/2.67G [00:18<00:07, 122MB/s]\u001b[A\n",
            "\n",
            "model-00001-of-00002.safetensors:  35% 1.74G/4.97G [00:23<03:28, 15.5MB/s]\u001b[A\u001b[A\n",
            "model-00002-of-00002.safetensors:  66% 1.75G/2.67G [00:23<01:05, 14.0MB/s]\u001b[A\n",
            "\n",
            "model-00001-of-00002.safetensors:  35% 1.76G/4.97G [00:23<02:37, 20.4MB/s]\u001b[A\u001b[A\n",
            "model-00002-of-00002.safetensors:  66% 1.77G/2.67G [00:23<00:47, 18.8MB/s]\u001b[A\n",
            "\n",
            "model-00001-of-00002.safetensors:  36% 1.79G/4.97G [00:23<01:45, 30.3MB/s]\u001b[A\u001b[A\n",
            "model-00002-of-00002.safetensors:  67% 1.79G/2.67G [00:24<00:34, 25.4MB/s]\u001b[A\n",
            "\n",
            "model-00001-of-00002.safetensors:  36% 1.81G/4.97G [00:24<01:21, 38.7MB/s]\u001b[A\u001b[A\n",
            "model-00002-of-00002.safetensors:  68% 1.82G/2.67G [00:24<00:22, 37.6MB/s]\u001b[A\n",
            "\n",
            "model-00001-of-00002.safetensors:  37% 1.84G/4.97G [00:24<01:07, 46.8MB/s]\u001b[A\u001b[A\n",
            "model-00002-of-00002.safetensors:  69% 1.85G/2.67G [00:24<00:17, 47.9MB/s]\u001b[A\n",
            "\n",
            "model-00001-of-00002.safetensors:  37% 1.86G/4.97G [00:24<00:57, 54.5MB/s]\u001b[A\u001b[A\n",
            "model-00002-of-00002.safetensors:  70% 1.87G/2.67G [00:24<00:14, 54.5MB/s]\u001b[A\n",
            "\n",
            "model-00001-of-00002.safetensors:  38% 1.88G/4.97G [00:24<00:46, 66.9MB/s]\u001b[A\u001b[A\n",
            "model-00002-of-00002.safetensors:  71% 1.89G/2.67G [00:24<00:11, 68.2MB/s]\u001b[A\n",
            "model-00002-of-00002.safetensors:  72% 1.92G/2.67G [00:24<00:07, 95.2MB/s]\u001b[A\n",
            "\n",
            "model-00001-of-00002.safetensors:  38% 1.90G/4.97G [00:24<00:44, 69.8MB/s]\u001b[A\u001b[A\n",
            "\n",
            "model-00001-of-00002.safetensors:  39% 1.92G/4.97G [00:24<00:36, 84.6MB/s]\u001b[A\u001b[A\n",
            "model-00002-of-00002.safetensors:  73% 1.95G/2.67G [00:25<00:06, 105MB/s] \u001b[A\n",
            "\n",
            "model-00001-of-00002.safetensors:  39% 1.94G/4.97G [00:25<00:30, 99.2MB/s]\u001b[A\u001b[A\n",
            "model-00002-of-00002.safetensors:  74% 1.97G/2.67G [00:25<00:06, 109MB/s]\u001b[A\n",
            "\n",
            "model-00001-of-00002.safetensors:  39% 1.96G/4.97G [00:25<00:28, 107MB/s] \u001b[A\u001b[A\n",
            "model-00002-of-00002.safetensors:  75% 1.99G/2.67G [00:25<00:06, 110MB/s]\u001b[A\n",
            "\n",
            "model-00001-of-00002.safetensors:  40% 1.98G/4.97G [00:25<00:24, 120MB/s]\u001b[A\u001b[A\n",
            "model-00002-of-00002.safetensors:  75% 2.01G/2.67G [00:25<00:05, 115MB/s]\u001b[A\n",
            "\n",
            "model-00001-of-00002.safetensors:  40% 2.00G/4.97G [00:25<00:27, 107MB/s]\u001b[A\u001b[A\n",
            "model-00002-of-00002.safetensors:  76% 2.03G/2.67G [00:25<00:05, 124MB/s]\u001b[A\n",
            "\n",
            "model-00001-of-00002.safetensors:  41% 2.02G/4.97G [00:27<01:48, 27.2MB/s]\u001b[A\u001b[A\n",
            "\n",
            "model-00001-of-00002.safetensors:  42% 2.07G/4.97G [00:27<01:01, 47.3MB/s]\u001b[A\u001b[A\n",
            "model-00002-of-00002.safetensors:  77% 2.06G/2.67G [00:28<00:23, 26.5MB/s]\u001b[A\n",
            "\n",
            "model-00001-of-00002.safetensors:  42% 2.10G/4.97G [00:28<00:45, 63.5MB/s]\u001b[A\u001b[A\n",
            "model-00002-of-00002.safetensors:  78% 2.08G/2.67G [00:28<00:17, 33.6MB/s]\u001b[A\n",
            "\n",
            "model-00001-of-00002.safetensors:  43% 2.12G/4.97G [00:28<00:41, 68.0MB/s]\u001b[A\u001b[A\n",
            "model-00002-of-00002.safetensors:  78% 2.09G/2.67G [00:28<00:15, 37.6MB/s]\u001b[A\n",
            "\n",
            "model-00001-of-00002.safetensors:  43% 2.14G/4.97G [00:28<00:37, 75.7MB/s]\u001b[A\u001b[A\n",
            "model-00002-of-00002.safetensors:  79% 2.11G/2.67G [00:28<00:11, 48.1MB/s]\u001b[A\n",
            "\n",
            "model-00001-of-00002.safetensors:  43% 2.16G/4.97G [00:28<00:32, 85.9MB/s]\u001b[A\u001b[A\n",
            "model-00002-of-00002.safetensors:  79% 2.12G/2.67G [00:28<00:10, 53.6MB/s]\u001b[A\n",
            "\n",
            "model-00001-of-00002.safetensors:  44% 2.18G/4.97G [00:28<00:28, 96.3MB/s]\u001b[A\u001b[A\n",
            "model-00002-of-00002.safetensors:  80% 2.14G/2.67G [00:28<00:07, 67.2MB/s]\u001b[A\n",
            "model-00002-of-00002.safetensors:  81% 2.16G/2.67G [00:28<00:05, 85.1MB/s]\u001b[A\n",
            "\n",
            "model-00001-of-00002.safetensors:  44% 2.20G/4.97G [00:28<00:27, 99.2MB/s]\u001b[A\u001b[A\n",
            "model-00002-of-00002.safetensors:  82% 2.18G/2.67G [00:29<00:05, 92.6MB/s]\u001b[A\n",
            "\n",
            "model-00001-of-00002.safetensors:  45% 2.22G/4.97G [00:29<00:25, 107MB/s] \u001b[A\u001b[A\n",
            "model-00002-of-00002.safetensors:  82% 2.20G/2.67G [00:29<00:04, 102MB/s] \u001b[A\n",
            "\n",
            "model-00001-of-00002.safetensors:  45% 2.24G/4.97G [00:29<00:24, 113MB/s]\u001b[A\u001b[A\n",
            "model-00002-of-00002.safetensors:  83% 2.22G/2.67G [00:29<00:04, 107MB/s]\u001b[A\n",
            "\n",
            "model-00001-of-00002.safetensors:  46% 2.26G/4.97G [00:29<00:23, 115MB/s]\u001b[A\u001b[A\n",
            "\n",
            "model-00001-of-00002.safetensors:  46% 2.29G/4.97G [00:29<00:20, 131MB/s]\u001b[A\u001b[A\n",
            "model-00002-of-00002.safetensors:  84% 2.24G/2.67G [00:29<00:03, 116MB/s]\u001b[A\n",
            "\n",
            "model-00001-of-00002.safetensors:  46% 2.31G/4.97G [00:29<00:19, 133MB/s]\u001b[A\u001b[A\n",
            "model-00002-of-00002.safetensors:  85% 2.26G/2.67G [00:29<00:03, 124MB/s]\u001b[A\n",
            "model-00002-of-00002.safetensors:  86% 2.29G/2.67G [00:29<00:03, 110MB/s]\u001b[A\n",
            "\n",
            "model-00001-of-00002.safetensors:  47% 2.33G/4.97G [00:29<00:23, 110MB/s]\u001b[A\u001b[A\n",
            "model-00002-of-00002.safetensors:  86% 2.31G/2.67G [00:30<00:03, 116MB/s]\u001b[A\n",
            "\n",
            "model-00001-of-00002.safetensors:  47% 2.35G/4.97G [00:30<00:22, 115MB/s]\u001b[A\u001b[A\n",
            "model-00002-of-00002.safetensors:  87% 2.33G/2.67G [00:30<00:03, 113MB/s]\u001b[A\n",
            "\n",
            "model-00001-of-00002.safetensors:  48% 2.37G/4.97G [00:30<00:23, 113MB/s]\u001b[A\u001b[A\n",
            "model-00002-of-00002.safetensors:  88% 2.35G/2.67G [00:30<00:02, 123MB/s]\u001b[A\n",
            "\n",
            "model-00001-of-00002.safetensors:  48% 2.39G/4.97G [00:30<00:22, 115MB/s]\u001b[A\u001b[A\n",
            "model-00002-of-00002.safetensors:  89% 2.37G/2.67G [00:30<00:02, 122MB/s]\u001b[A\n",
            "\n",
            "model-00001-of-00002.safetensors:  49% 2.41G/4.97G [00:30<00:22, 116MB/s]\u001b[A\u001b[A\n",
            "model-00002-of-00002.safetensors:  90% 2.39G/2.67G [00:30<00:02, 123MB/s]\u001b[A\n",
            "\n",
            "model-00001-of-00002.safetensors:  49% 2.43G/4.97G [00:30<00:19, 128MB/s]\u001b[A\u001b[A\n",
            "\n",
            "model-00001-of-00002.safetensors:  49% 2.45G/4.97G [00:30<00:19, 129MB/s]\u001b[A\u001b[A\n",
            "model-00002-of-00002.safetensors:  90% 2.41G/2.67G [00:31<00:02, 113MB/s]\u001b[A\n",
            "\n",
            "model-00001-of-00002.safetensors:  50% 2.49G/4.97G [00:31<00:16, 153MB/s]\u001b[A\u001b[A\n",
            "model-00002-of-00002.safetensors:  91% 2.43G/2.67G [00:31<00:01, 126MB/s]\u001b[A\n",
            "\n",
            "model-00001-of-00002.safetensors:  50% 2.51G/4.97G [00:31<00:15, 160MB/s]\u001b[A\u001b[A\n",
            "model-00002-of-00002.safetensors:  92% 2.45G/2.67G [00:31<00:01, 137MB/s]\u001b[A\n",
            "\n",
            "model-00001-of-00002.safetensors:  51% 2.53G/4.97G [00:31<00:14, 166MB/s]\u001b[A\u001b[A\n",
            "model-00002-of-00002.safetensors:  93% 2.49G/2.67G [00:31<00:01, 169MB/s]\u001b[A\n",
            "\n",
            "model-00001-of-00002.safetensors:  51% 2.56G/4.97G [00:31<00:12, 187MB/s]\u001b[A\u001b[A\n",
            "model-00002-of-00002.safetensors:  94% 2.52G/2.67G [00:31<00:01, 146MB/s]\u001b[A\n",
            "model-00002-of-00002.safetensors:  95% 2.54G/2.67G [00:31<00:01, 130MB/s]\u001b[A\n",
            "\n",
            "model-00001-of-00002.safetensors:  52% 2.58G/4.97G [00:31<00:22, 107MB/s]\u001b[A\u001b[A\n",
            "model-00002-of-00002.safetensors:  96% 2.56G/2.67G [00:32<00:01, 110MB/s]\u001b[A\n",
            "\n",
            "model-00001-of-00002.safetensors:  52% 2.60G/4.97G [00:32<00:29, 81.2MB/s]\u001b[A\u001b[A\n",
            "model-00002-of-00002.safetensors:  97% 2.58G/2.67G [00:33<00:02, 40.5MB/s]\u001b[A\n",
            "\n",
            "model-00001-of-00002.safetensors:  53% 2.62G/4.97G [00:33<00:58, 40.2MB/s]\u001b[A\u001b[A\n",
            "model-00002-of-00002.safetensors:  97% 2.60G/2.67G [00:33<00:01, 49.0MB/s]\u001b[A\n",
            "\n",
            "model-00001-of-00002.safetensors:  53% 2.64G/4.97G [00:33<00:47, 49.4MB/s]\u001b[A\u001b[A\n",
            "model-00002-of-00002.safetensors:  98% 2.61G/2.67G [00:33<00:01, 53.3MB/s]\u001b[A\n",
            "\n",
            "model-00001-of-00002.safetensors:  54% 2.66G/4.97G [00:33<00:38, 60.2MB/s]\u001b[A\u001b[A\n",
            "model-00002-of-00002.safetensors:  98% 2.62G/2.67G [00:34<00:01, 44.7MB/s]\u001b[A\n",
            "model-00002-of-00002.safetensors:  99% 2.63G/2.67G [00:35<00:02, 18.7MB/s]\u001b[A\n",
            "\n",
            "model-00001-of-00002.safetensors:  54% 2.68G/4.97G [00:35<01:34, 24.3MB/s]\u001b[A\u001b[A\n",
            "\n",
            "model-00001-of-00002.safetensors:  55% 2.72G/4.97G [00:36<01:00, 37.5MB/s]\u001b[A\u001b[A\n",
            "model-00002-of-00002.safetensors: 100% 2.67G/2.67G [00:36<00:00, 73.8MB/s]\n",
            "\n",
            "\n",
            "model-00001-of-00002.safetensors:  55% 2.74G/4.97G [00:36<00:46, 48.1MB/s]\u001b[A\u001b[A\n",
            "\n",
            "model-00001-of-00002.safetensors:  56% 2.77G/4.97G [00:36<00:31, 69.4MB/s]\u001b[A\u001b[A\n",
            "\n",
            "model-00001-of-00002.safetensors:  56% 2.80G/4.97G [00:36<00:23, 93.8MB/s]\u001b[A\u001b[A\n",
            "\n",
            "model-00001-of-00002.safetensors:  57% 2.83G/4.97G [00:36<00:17, 120MB/s] \u001b[A\u001b[A\n",
            "\n",
            "model-00001-of-00002.safetensors:  58% 2.87G/4.97G [00:36<00:13, 160MB/s]\u001b[A\u001b[A\n",
            "\n",
            "model-00001-of-00002.safetensors:  59% 2.92G/4.97G [00:36<00:10, 194MB/s]\u001b[A\u001b[A\n",
            "\n",
            "model-00001-of-00002.safetensors:  59% 2.96G/4.97G [00:36<00:08, 226MB/s]\u001b[A\u001b[A\n",
            "\n",
            "model-00001-of-00002.safetensors:  60% 3.00G/4.97G [00:37<00:07, 251MB/s]\u001b[A\u001b[A\n",
            "\n",
            "model-00001-of-00002.safetensors:  61% 3.04G/4.97G [00:37<00:07, 273MB/s]\u001b[A\u001b[A\n",
            "\n",
            "model-00001-of-00002.safetensors:  62% 3.09G/4.97G [00:37<00:06, 299MB/s]\u001b[A\u001b[A\n",
            "\n",
            "model-00001-of-00002.safetensors:  63% 3.14G/4.97G [00:37<00:06, 304MB/s]\u001b[A\u001b[A\n",
            "\n",
            "model-00001-of-00002.safetensors:  64% 3.18G/4.97G [00:37<00:06, 288MB/s]\u001b[A\u001b[A\n",
            "\n",
            "model-00001-of-00002.safetensors:  65% 3.21G/4.97G [00:37<00:06, 277MB/s]\u001b[A\u001b[A\n",
            "\n",
            "model-00001-of-00002.safetensors:  65% 3.24G/4.97G [00:37<00:07, 237MB/s]\u001b[A\u001b[A\n",
            "\n",
            "model-00001-of-00002.safetensors:  66% 3.27G/4.97G [00:38<00:10, 169MB/s]\u001b[A\u001b[A\n",
            "\n",
            "model-00001-of-00002.safetensors:  66% 3.30G/4.97G [00:38<00:08, 190MB/s]\u001b[A\u001b[A\n",
            "\n",
            "model-00001-of-00002.safetensors:  67% 3.34G/4.97G [00:38<00:07, 224MB/s]\u001b[A\u001b[A\n",
            "\n",
            "model-00001-of-00002.safetensors:  68% 3.39G/4.97G [00:38<00:06, 251MB/s]\u001b[A\u001b[A\n",
            "\n",
            "model-00001-of-00002.safetensors:  69% 3.44G/4.97G [00:38<00:05, 293MB/s]\u001b[A\u001b[A\n",
            "\n",
            "model-00001-of-00002.safetensors:  70% 3.48G/4.97G [00:38<00:05, 287MB/s]\u001b[A\u001b[A\n",
            "\n",
            "model-00001-of-00002.safetensors:  71% 3.51G/4.97G [00:38<00:05, 288MB/s]\u001b[A\u001b[A\n",
            "\n",
            "model-00001-of-00002.safetensors:  71% 3.55G/4.97G [00:39<00:05, 281MB/s]\u001b[A\u001b[A\n",
            "\n",
            "model-00001-of-00002.safetensors:  72% 3.59G/4.97G [00:39<00:04, 281MB/s]\u001b[A\u001b[A\n",
            "\n",
            "model-00001-of-00002.safetensors:  73% 3.62G/4.97G [00:39<00:04, 284MB/s]\u001b[A\u001b[A\n",
            "\n",
            "model-00001-of-00002.safetensors:  73% 3.65G/4.97G [00:39<00:05, 256MB/s]\u001b[A\u001b[A\n",
            "\n",
            "model-00001-of-00002.safetensors:  74% 3.69G/4.97G [00:39<00:04, 277MB/s]\u001b[A\u001b[A\n",
            "\n",
            "model-00001-of-00002.safetensors:  75% 3.72G/4.97G [00:39<00:06, 206MB/s]\u001b[A\u001b[A\n",
            "\n",
            "model-00001-of-00002.safetensors:  75% 3.75G/4.97G [00:40<00:07, 174MB/s]\u001b[A\u001b[A\n",
            "\n",
            "model-00001-of-00002.safetensors:  76% 3.80G/4.97G [00:40<00:05, 209MB/s]\u001b[A\u001b[A\n",
            "\n",
            "model-00001-of-00002.safetensors:  77% 3.84G/4.97G [00:40<00:04, 245MB/s]\u001b[A\u001b[A\n",
            "\n",
            "model-00001-of-00002.safetensors:  78% 3.87G/4.97G [00:40<00:05, 217MB/s]\u001b[A\u001b[A\n",
            "\n",
            "model-00001-of-00002.safetensors:  78% 3.90G/4.97G [00:40<00:05, 200MB/s]\u001b[A\u001b[A\n",
            "\n",
            "model-00001-of-00002.safetensors:  79% 3.94G/4.97G [00:40<00:04, 239MB/s]\u001b[A\u001b[A\n",
            "\n",
            "model-00001-of-00002.safetensors:  80% 3.97G/4.97G [00:41<00:04, 246MB/s]\u001b[A\u001b[A\n",
            "\n",
            "model-00001-of-00002.safetensors:  81% 4.01G/4.97G [00:41<00:04, 224MB/s]\u001b[A\u001b[A\n",
            "\n",
            "model-00001-of-00002.safetensors:  81% 4.04G/4.97G [00:41<00:03, 241MB/s]\u001b[A\u001b[A\n",
            "\n",
            "model-00001-of-00002.safetensors:  82% 4.08G/4.97G [00:41<00:03, 276MB/s]\u001b[A\u001b[A\n",
            "\n",
            "model-00001-of-00002.safetensors:  83% 4.11G/4.97G [00:41<00:03, 263MB/s]\u001b[A\u001b[A\n",
            "\n",
            "model-00001-of-00002.safetensors:  83% 4.14G/4.97G [00:41<00:03, 226MB/s]\u001b[A\u001b[A\n",
            "\n",
            "model-00001-of-00002.safetensors:  84% 4.17G/4.97G [00:41<00:04, 196MB/s]\u001b[A\u001b[A\n",
            "\n",
            "model-00001-of-00002.safetensors:  85% 4.20G/4.97G [00:42<00:04, 186MB/s]\u001b[A\u001b[A\n",
            "\n",
            "model-00001-of-00002.safetensors:  85% 4.23G/4.97G [00:42<00:03, 190MB/s]\u001b[A\u001b[A\n",
            "\n",
            "model-00001-of-00002.safetensors:  86% 4.26G/4.97G [00:42<00:03, 212MB/s]\u001b[A\u001b[A\n",
            "\n",
            "model-00001-of-00002.safetensors:  86% 4.29G/4.97G [00:42<00:02, 233MB/s]\u001b[A\u001b[A\n",
            "\n",
            "model-00001-of-00002.safetensors:  87% 4.32G/4.97G [00:42<00:02, 223MB/s]\u001b[A\u001b[A\n",
            "\n",
            "model-00001-of-00002.safetensors:  88% 4.36G/4.97G [00:42<00:02, 253MB/s]\u001b[A\u001b[A\n",
            "\n",
            "model-00001-of-00002.safetensors:  88% 4.39G/4.97G [00:42<00:02, 252MB/s]\u001b[A\u001b[A\n",
            "\n",
            "model-00001-of-00002.safetensors:  89% 4.42G/4.97G [00:42<00:02, 250MB/s]\u001b[A\u001b[A\n",
            "\n",
            "model-00001-of-00002.safetensors:  90% 4.46G/4.97G [00:43<00:02, 238MB/s]\u001b[A\u001b[A\n",
            "\n",
            "model-00001-of-00002.safetensors:  90% 4.49G/4.97G [00:43<00:02, 239MB/s]\u001b[A\u001b[A\n",
            "\n",
            "model-00001-of-00002.safetensors:  91% 4.52G/4.97G [00:43<00:01, 241MB/s]\u001b[A\u001b[A\n",
            "\n",
            "model-00001-of-00002.safetensors:  92% 4.55G/4.97G [00:43<00:01, 225MB/s]\u001b[A\u001b[A\n",
            "\n",
            "model-00001-of-00002.safetensors:  92% 4.58G/4.97G [00:43<00:01, 242MB/s]\u001b[A\u001b[A\n",
            "\n",
            "model-00001-of-00002.safetensors:  93% 4.61G/4.97G [00:43<00:01, 231MB/s]\u001b[A\u001b[A\n",
            "\n",
            "model-00001-of-00002.safetensors:  93% 4.65G/4.97G [00:43<00:01, 245MB/s]\u001b[A\u001b[A\n",
            "\n",
            "model-00001-of-00002.safetensors:  94% 4.68G/4.97G [00:44<00:01, 243MB/s]\u001b[A\u001b[A\n",
            "\n",
            "model-00001-of-00002.safetensors:  95% 4.71G/4.97G [00:44<00:01, 249MB/s]\u001b[A\u001b[A\n",
            "\n",
            "model-00001-of-00002.safetensors:  95% 4.74G/4.97G [00:44<00:01, 222MB/s]\u001b[A\u001b[A\n",
            "\n",
            "model-00001-of-00002.safetensors:  96% 4.77G/4.97G [00:44<00:00, 238MB/s]\u001b[A\u001b[A\n",
            "\n",
            "model-00001-of-00002.safetensors:  97% 4.81G/4.97G [00:44<00:00, 266MB/s]\u001b[A\u001b[A\n",
            "\n",
            "model-00001-of-00002.safetensors:  97% 4.84G/4.97G [00:44<00:00, 276MB/s]\u001b[A\u001b[A\n",
            "\n",
            "model-00001-of-00002.safetensors:  98% 4.88G/4.97G [00:44<00:00, 246MB/s]\u001b[A\u001b[A\n",
            "\n",
            "model-00001-of-00002.safetensors:  99% 4.91G/4.97G [00:45<00:00, 230MB/s]\u001b[A\u001b[A\n",
            "\n",
            "model-00001-of-00002.safetensors: 100% 4.97G/4.97G [00:45<00:00, 110MB/s]\n",
            "Fetching 2 files: 100% 2/2 [00:45<00:00, 22.78s/it]\n",
            "Loading checkpoint shards: 100% 2/2 [00:00<00:00,  4.83it/s]\n",
            "generation_config.json: 100% 181/181 [00:00<00:00, 1.27MB/s]\n",
            "tokenizer_config.json: 100% 3.44k/3.44k [00:00<00:00, 25.8MB/s]\n",
            "tokenizer.model: 100% 500k/500k [00:00<00:00, 73.3MB/s]\n",
            "tokenizer.json: 100% 1.94M/1.94M [00:00<00:00, 2.20MB/s]\n",
            "added_tokens.json: 100% 306/306 [00:00<00:00, 2.58MB/s]\n",
            "special_tokens_map.json: 100% 599/599 [00:00<00:00, 4.11MB/s]\n",
            "Device set to use cuda\n",
            "2025-04-16 15:44:01.384 Examining the path of torch.classes raised:\n",
            "Traceback (most recent call last):\n",
            "  File \"/usr/local/lib/python3.11/dist-packages/streamlit/web/bootstrap.py\", line 347, in run\n",
            "    if asyncio.get_running_loop().is_running():\n",
            "       ^^^^^^^^^^^^^^^^^^^^^^^^^^\n",
            "RuntimeError: no running event loop\n",
            "\n",
            "During handling of the above exception, another exception occurred:\n",
            "\n",
            "Traceback (most recent call last):\n",
            "  File \"/usr/local/lib/python3.11/dist-packages/streamlit/watcher/local_sources_watcher.py\", line 217, in get_module_paths\n",
            "    potential_paths = extract_paths(module)\n",
            "                      ^^^^^^^^^^^^^^^^^^^^^\n",
            "  File \"/usr/local/lib/python3.11/dist-packages/streamlit/watcher/local_sources_watcher.py\", line 210, in <lambda>\n",
            "    lambda m: list(m.__path__._path),\n",
            "                   ^^^^^^^^^^^^^^^^\n",
            "  File \"/usr/local/lib/python3.11/dist-packages/torch/_classes.py\", line 13, in __getattr__\n",
            "    proxy = torch._C._get_custom_class_python_wrapper(self.name, attr)\n",
            "            ^^^^^^^^^^^^^^^^^^^^^^^^^^^^^^^^^^^^^^^^^^^^^^^^^^^^^^^^^^\n",
            "RuntimeError: Tried to instantiate class '__path__._path', but it does not exist! Ensure that it is registered via torch::class_\n",
            "NLTK Punkt data checked/downloaded.\n",
            "Database 'chat_feedback.db' initialized successfully.\n",
            "NLTK Punkt data checked/downloaded.\n",
            "Database 'chat_feedback.db' initialized successfully.\n",
            "Generated response in 3.84s\n",
            "NLTK Punkt data checked/downloaded.\n",
            "Database 'chat_feedback.db' initialized successfully.\n",
            "NLTK Punkt data checked/downloaded.\n",
            "Database 'chat_feedback.db' initialized successfully.\n",
            "NLTK Punkt data checked/downloaded.\n",
            "Database 'chat_feedback.db' initialized successfully.\n",
            "Generated response in 2.65s\n",
            "NLTK Punkt data checked/downloaded.\n",
            "Database 'chat_feedback.db' initialized successfully.\n",
            "NLTK Punkt data checked/downloaded.\n",
            "Database 'chat_feedback.db' initialized successfully.\n",
            "NLTK Punkt data checked/downloaded.\n",
            "Database 'chat_feedback.db' initialized successfully.\n",
            "Generated response in 5.80s\n",
            "NLTK Punkt data checked/downloaded.\n",
            "Database 'chat_feedback.db' initialized successfully.\n"
          ]
        }
      ],
      "source": [
        "from pyngrok import ngrok\n",
        "\n",
        "public_url = ngrok.connect(8501).public_url\n",
        "print(f\"公開URL: {public_url}\")\n",
        "!streamlit run app.py"
      ]
    },
    {
      "cell_type": "markdown",
      "metadata": {
        "id": "ws5gM-K37ABj"
      },
      "source": [
        "アプリケーションの機能としては、チャット機能や履歴閲覧があります。\n",
        "\n",
        "これらの機能を実現するためには、StreamlitによるUI部分だけではなく、SQLiteを使用したチャット履歴の保存やLLMのモデルを呼び出した推論などの処理を組み合わせることで実現しています。\n",
        "\n",
        "- **`app.py`**: アプリケーションのエントリーポイント。チャット機能、履歴閲覧、サンプルデータ管理のUIを提供します。\n",
        "- **`ui.py`**: チャットページや履歴閲覧ページなど、アプリケーションのUIロジックを管理します。\n",
        "- **`llm.py`**: LLMモデルのロードとテキスト生成を行うモジュール。\n",
        "- **`database.py`**: SQLiteデータベースを使用してチャット履歴やフィードバックを保存・管理します。\n",
        "- **`metrics.py`**: BLEUスコアやコサイン類似度など、回答の評価指標を計算するモジュール。\n",
        "- **`data.py`**: サンプルデータの作成やデータベースの初期化を行うモジュール。\n",
        "- **`config.py`**: アプリケーションの設定（モデル名やデータベースファイル名）を管理します。\n",
        "- **`requirements.txt`**: このアプリケーションを実行するために必要なPythonパッケージ。"
      ]
    },
    {
      "cell_type": "markdown",
      "metadata": {
        "id": "Xvm8sWFPELSP"
      },
      "source": [
        "後片付けとして、使う必要のないngrokのトンネルを削除します。"
      ]
    },
    {
      "cell_type": "code",
      "execution_count": null,
      "metadata": {
        "id": "WFJC2TmZELSP"
      },
      "outputs": [],
      "source": [
        "from pyngrok import ngrok\n",
        "ngrok.kill()"
      ]
    },
    {
      "cell_type": "markdown",
      "metadata": {
        "id": "rUXhIzV7ELSP"
      },
      "source": [
        "# 03_FastAPI\n",
        "\n",
        "ディレクトリ「03_FastAPI」に移動します。"
      ]
    },
    {
      "cell_type": "code",
      "execution_count": null,
      "metadata": {
        "id": "4ejjDLxr3kfC",
        "colab": {
          "base_uri": "https://localhost:8080/"
        },
        "outputId": "c97899ee-9bc7-4fe1-e5e2-1f9fbb98ae25"
      },
      "outputs": [
        {
          "output_type": "stream",
          "name": "stdout",
          "text": [
            "[Errno 2] No such file or directory: '/content/lecture-ai-engineering/day1/03_FastAPI'\n",
            "/content\n"
          ]
        }
      ],
      "source": [
        "%cd /content/lecture-ai-engineering/day1/03_FastAPI"
      ]
    },
    {
      "cell_type": "markdown",
      "metadata": {
        "id": "f45TDsNzELSQ"
      },
      "source": [
        "必要なライブラリをインストールします。"
      ]
    },
    {
      "cell_type": "code",
      "execution_count": null,
      "metadata": {
        "id": "9uv6glCz5a7Z"
      },
      "outputs": [],
      "source": [
        "%%capture\n",
        "!pip install -r requirements.txt"
      ]
    },
    {
      "cell_type": "markdown",
      "metadata": {
        "id": "JfrmE2VmELSQ"
      },
      "source": [
        "ngrokとhuggigfaceのトークンを使用して、認証を行います。"
      ]
    },
    {
      "cell_type": "code",
      "execution_count": null,
      "metadata": {
        "id": "ELzWhMFORRIO",
        "colab": {
          "base_uri": "https://localhost:8080/"
        },
        "outputId": "d6371759-3942-4af0-8d27-d52d6782e360"
      },
      "outputs": [
        {
          "output_type": "stream",
          "name": "stdout",
          "text": [
            "Authtoken saved to configuration file: /root/.config/ngrok/ngrok.yml\n",
            "The token has not been saved to the git credentials helper. Pass `add_to_git_credential=True` in this function directly or `--add-to-git-credential` if using via `huggingface-cli` if you want to set the git credential as well.\n",
            "Token is valid (permission: fineGrained).\n",
            "The token `lecture-ai-engineering` has been saved to /root/.cache/huggingface/stored_tokens\n",
            "Your token has been saved to /root/.cache/huggingface/token\n",
            "Login successful.\n",
            "The current active token is: `lecture-ai-engineering`\n"
          ]
        }
      ],
      "source": [
        "!ngrok authtoken $$NGROK_TOKEN\n",
        "!huggingface-cli login --token $$HUGGINGFACE_TOKEN"
      ]
    },
    {
      "cell_type": "markdown",
      "metadata": {
        "id": "t-wztc2CELSQ"
      },
      "source": [
        "アプリを起動します。\n",
        "\n",
        "「02_streamlit_app」から続けて「03_FastAPI」を実行している場合は、モデルのダウンロードが済んでいるため、すぐにサービスが立ち上がります。\n",
        "\n",
        "「03_FastAPI」のみを実行している場合は、初回の起動時にモデルのダウンロードが始まるので、モデルのダウンロードが終わるまで数分間待ちましょう。"
      ]
    },
    {
      "cell_type": "code",
      "execution_count": null,
      "metadata": {
        "id": "meQ4SwISn3IQ",
        "colab": {
          "base_uri": "https://localhost:8080/"
        },
        "outputId": "ca63f912-d3d5-49ec-b197-1f0ae2bb8f76"
      },
      "outputs": [
        {
          "output_type": "stream",
          "name": "stdout",
          "text": [
            "python3: can't open file '/content/app.py': [Errno 2] No such file or directory\n"
          ]
        }
      ],
      "source": [
        "!python app.py"
      ]
    },
    {
      "cell_type": "markdown",
      "metadata": {
        "id": "RLubjIhbELSR"
      },
      "source": [
        "FastAPIが起動すると、APIとクライアントが通信するためのURL（エンドポイント）が作られます。\n",
        "\n",
        "URLが作られるのと合わせて、Swagger UIというWebインターフェースが作られます。\n",
        "\n",
        "Swagger UIにアクセスすることで、APIの仕様を確認できたり、APIをテストすることができます。\n",
        "\n",
        "Swagger UIを利用することで、APIを通してLLMを動かしてみましょう。"
      ]
    },
    {
      "cell_type": "markdown",
      "metadata": {
        "id": "XgumW3mGELSR"
      },
      "source": [
        "後片付けとして、使う必要のないngrokのトンネルを削除します。"
      ]
    },
    {
      "cell_type": "code",
      "execution_count": null,
      "metadata": {
        "id": "RJymTZio-WPJ"
      },
      "outputs": [],
      "source": [
        "from pyngrok import ngrok\n",
        "ngrok.kill()"
      ]
    }
  ],
  "metadata": {
    "colab": {
      "provenance": [],
      "gpuType": "T4"
    },
    "kernelspec": {
      "display_name": "Python 3",
      "name": "python3"
    },
    "language_info": {
      "name": "python"
    },
    "accelerator": "GPU"
  },
  "nbformat": 4,
  "nbformat_minor": 0
}